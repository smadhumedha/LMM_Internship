{
  "nbformat": 4,
  "nbformat_minor": 0,
  "metadata": {
    "colab": {
      "provenance": [],
      "gpuType": "T4"
    },
    "kernelspec": {
      "name": "python3",
      "display_name": "Python 3"
    },
    "language_info": {
      "name": "python"
    },
    "accelerator": "GPU"
  },
  "cells": [
    {
      "cell_type": "markdown",
      "source": [
        "# IMPORT LIBRARIES"
      ],
      "metadata": {
        "id": "udadGQ25eo17"
      }
    },
    {
      "cell_type": "code",
      "source": [
        "from google.colab import drive\n",
        "drive.mount('/content/drive')"
      ],
      "metadata": {
        "colab": {
          "base_uri": "https://localhost:8080/"
        },
        "id": "04Xpz3qG063v",
        "outputId": "2d59b143-3660-46ed-bfb8-8a3fe10176df"
      },
      "execution_count": null,
      "outputs": [
        {
          "output_type": "stream",
          "name": "stdout",
          "text": [
            "Drive already mounted at /content/drive; to attempt to forcibly remount, call drive.mount(\"/content/drive\", force_remount=True).\n"
          ]
        }
      ]
    },
    {
      "cell_type": "code",
      "execution_count": null,
      "metadata": {
        "id": "2nv-hWRVebLt"
      },
      "outputs": [],
      "source": [
        "import pandas as pd\n",
        "from sklearn.model_selection import train_test_split\n",
        "from transformers import T5Tokenizer, T5ForConditionalGeneration\n",
        "from torch.utils.data import DataLoader, TensorDataset\n",
        "from sklearn.model_selection import train_test_split\n",
        "import torch\n",
        "import torch.optim as optim\n",
        "import matplotlib.pyplot as plt"
      ]
    },
    {
      "cell_type": "markdown",
      "source": [
        "# IMPORTING DATASET"
      ],
      "metadata": {
        "id": "cUDai1qcetoq"
      }
    },
    {
      "cell_type": "code",
      "source": [
        "dataset_path = \"/content/drive/MyDrive/DRDO Internship/Dataset_1000_samples.csv\"\n",
        "df = pd.read_csv(dataset_path)\n",
        "\n",
        "# Assuming CSV file has columns named \"NLP Statement\" and \"Logic Expression\"\n",
        "english_statements = df[\"NL Statement\"].tolist()\n",
        "logical_expressions = df[\"Logic Expression\"].tolist()"
      ],
      "metadata": {
        "id": "mDVv-mFNewdf"
      },
      "execution_count": null,
      "outputs": []
    },
    {
      "cell_type": "markdown",
      "source": [
        "# TRAIN-TEST SPLIT"
      ],
      "metadata": {
        "id": "OmJslBfQfDjp"
      }
    },
    {
      "cell_type": "code",
      "source": [
        "train_inputs, val_inputs, train_outputs, val_outputs = train_test_split(\n",
        "    english_statements, logical_expressions, test_size=0.1, random_state=42\n",
        ")"
      ],
      "metadata": {
        "id": "F5C2I4MVfDKD"
      },
      "execution_count": null,
      "outputs": []
    },
    {
      "cell_type": "markdown",
      "source": [
        "# TOKENIZE DATA"
      ],
      "metadata": {
        "id": "63cvxGCZfLQ2"
      }
    },
    {
      "cell_type": "code",
      "source": [
        "#Tokenize your training and validation data\n",
        "#custom_cache_dir = \"/content/drive/MyDrive/models--t5-3b\"\n",
        "tokenizer = T5Tokenizer.from_pretrained(\"t5-base\")\n",
        "#tokenizer = T5Tokenizer.from_pretrained(custom_cache_dir)\n",
        "\n",
        "train_encodings = tokenizer(train_inputs, return_tensors=\"pt\", padding=True)\n",
        "train_labels = tokenizer(train_outputs, return_tensors=\"pt\", padding=True)\n",
        "\n",
        "val_encodings = tokenizer(val_inputs, return_tensors=\"pt\", padding=True)\n",
        "val_labels = tokenizer(val_outputs, return_tensors=\"pt\", padding=True)\n",
        "\n",
        "train_dataset = TensorDataset(train_encodings.input_ids, train_encodings.attention_mask, train_labels.input_ids)\n",
        "val_dataset = TensorDataset(val_encodings.input_ids, val_encodings.attention_mask, val_labels.input_ids)"
      ],
      "metadata": {
        "colab": {
          "base_uri": "https://localhost:8080/"
        },
        "id": "lohcX1tHei8d",
        "outputId": "3dd9a606-b27e-4638-eff3-ee6120c6da0c"
      },
      "execution_count": null,
      "outputs": [
        {
          "output_type": "stream",
          "name": "stderr",
          "text": [
            "/usr/local/lib/python3.10/dist-packages/huggingface_hub/utils/_token.py:88: UserWarning: \n",
            "The secret `HF_TOKEN` does not exist in your Colab secrets.\n",
            "To authenticate with the Hugging Face Hub, create a token in your settings tab (https://huggingface.co/settings/tokens), set it as secret in your Google Colab and restart your session.\n",
            "You will be able to reuse this secret in all of your notebooks.\n",
            "Please note that authentication is recommended but still optional to access public models or datasets.\n",
            "  warnings.warn(\n",
            "You are using the default legacy behaviour of the <class 'transformers.models.t5.tokenization_t5.T5Tokenizer'>. This is expected, and simply means that the `legacy` (previous) behavior will be used so nothing changes for you. If you want to use the new behaviour, set `legacy=False`. This should only be set if you understand what it means, and thoroughly read the reason why this was added as explained in https://github.com/huggingface/transformers/pull/24565\n",
            "Special tokens have been added in the vocabulary, make sure the associated word embeddings are fine-tuned or trained.\n"
          ]
        }
      ]
    },
    {
      "cell_type": "markdown",
      "source": [
        "# MODEL"
      ],
      "metadata": {
        "id": "xdyWL14GfOsG"
      }
    },
    {
      "cell_type": "code",
      "source": [
        "from transformers import T5ForConditionalGeneration\n",
        "\n",
        "# Define and initialize the T5 model for conditional generation\n",
        "model = T5ForConditionalGeneration.from_pretrained(\"t5-base\")\n",
        "#custom_cache_dir = \"/content/drive/MyDrive/models--t5-3b/snapshots/bed96aab9ee46012a5046386105ee5fd0ac572f0/\"\n",
        "#model = T5ForConditionalGeneration.from_pretrained(custom_cache_dir)\n",
        "\n",
        "#Define training parameters\n",
        "batch_size = 8\n",
        "epochs = 5\n",
        "\n",
        "optimizer = optim.AdamW(model.parameters(), lr=0.0005)\n",
        "device = torch.device(\"cuda\" if torch.cuda.is_available() else \"cpu\")"
      ],
      "metadata": {
        "id": "GARKc1wdfUEN"
      },
      "execution_count": null,
      "outputs": []
    },
    {
      "cell_type": "markdown",
      "source": [
        "# FINE-TUNE"
      ],
      "metadata": {
        "id": "TlvAUi8qfczK"
      }
    },
    {
      "cell_type": "code",
      "source": [
        "#Fine-tune the model\n",
        "model.to(device)\n",
        "train_loader = DataLoader(train_dataset, batch_size=batch_size, shuffle=True)\n",
        "train_losses = []\n",
        "\n",
        "\n",
        "for epoch in range(epochs):\n",
        "    model.train()\n",
        "    total_loss = 0.0\n",
        "\n",
        "    for batch in train_loader:\n",
        "        input_ids, attention_mask, labels = tuple(t.to(device) for t in batch)\n",
        "\n",
        "        optimizer.zero_grad()\n",
        "        outputs = model(input_ids, attention_mask=attention_mask, labels=labels)\n",
        "        loss = outputs.loss\n",
        "        loss.backward()\n",
        "        optimizer.step()\n",
        "\n",
        "        total_loss += loss.item()\n",
        "\n",
        "    avg_loss = total_loss / len(train_loader)\n",
        "    print(f\"Epoch {epoch + 1}/{epochs}, Avg Loss: {avg_loss}\")\n",
        "    train_losses.append(avg_loss)\n",
        "\n",
        "plt.plot(range(1, epochs + 1), train_losses, label='Training Loss')\n",
        "plt.xlabel('Epoch')\n",
        "plt.ylabel('Loss')\n",
        "plt.legend()\n",
        "plt.show()"
      ],
      "metadata": {
        "colab": {
          "base_uri": "https://localhost:8080/",
          "height": 542
        },
        "id": "UiA8DTWEfdNc",
        "outputId": "4cac97b4-daea-4ecd-cdda-5dfa15150c0c"
      },
      "execution_count": null,
      "outputs": [
        {
          "output_type": "stream",
          "name": "stdout",
          "text": [
            "Epoch 1/5, Avg Loss: 0.6698410054751202\n",
            "Epoch 2/5, Avg Loss: 0.19754955086824114\n",
            "Epoch 3/5, Avg Loss: 0.12502327459180249\n",
            "Epoch 4/5, Avg Loss: 0.09009539581571532\n",
            "Epoch 5/5, Avg Loss: 0.06519026912551011\n"
          ]
        },
        {
          "output_type": "display_data",
          "data": {
            "text/plain": [
              "<Figure size 640x480 with 1 Axes>"
            ],
            "image/png": "[encoded data removed]"
          },
          "metadata": {}
        }
      ]
    },
    {
      "cell_type": "markdown",
      "source": [
        "# EVALUATION"
      ],
      "metadata": {
        "id": "g2pqPRi9fkrC"
      }
    },
    {
      "cell_type": "code",
      "source": [
        "#Evaluate on the validation set\n",
        "model.eval()\n",
        "val_loader = DataLoader(val_dataset)\n",
        "\n",
        "with torch.no_grad():\n",
        "    total_val_loss = 0.0\n",
        "    for batch in val_loader:\n",
        "        input_ids, attention_mask, labels = tuple(t.to(device) for t in batch)\n",
        "        outputs = model(input_ids, attention_mask=attention_mask, labels=labels)\n",
        "        val_loss = outputs.loss\n",
        "        total_val_loss += val_loss.item()\n",
        "\n",
        "    avg_val_loss = total_val_loss / len(val_loader)\n",
        "    print(f\"Validation Loss: {avg_val_loss}\")"
      ],
      "metadata": {
        "colab": {
          "base_uri": "https://localhost:8080/"
        },
        "id": "FHj3rWwSflKR",
        "outputId": "5878ee62-b3c3-4b27-96f5-8df10d4e3426"
      },
      "execution_count": null,
      "outputs": [
        {
          "output_type": "stream",
          "name": "stdout",
          "text": [
            "Validation Loss: 0.3175434090544603\n"
          ]
        }
      ]
    },
    {
      "cell_type": "markdown",
      "source": [
        "# SAVE"
      ],
      "metadata": {
        "id": "S8yfdfQifpIi"
      }
    },
    {
      "cell_type": "code",
      "source": [
        "#Save the fine-tuned model\n",
        "model.save_pretrained(\"/content/drive/MyDrive/fine_tuned_t5_logical_expression_generator_for_1000examples\")\n",
        "tokenizer.save_pretrained(\"/content/drive/MyDrive/fine_tuned_t5_logical_expression_generator_for_1000examples\")"
      ],
      "metadata": {
        "id": "sxOIxA_sfst4",
        "colab": {
          "base_uri": "https://localhost:8080/"
        },
        "outputId": "7122c553-ddc6-4afc-ea20-fd7afeb9a232"
      },
      "execution_count": null,
      "outputs": [
        {
          "output_type": "execute_result",
          "data": {
            "text/plain": [
              "('/content/drive/MyDrive/fine_tuned_t5_logical_expression_generator_for_1000examples/tokenizer_config.json',\n",
              " '/content/drive/MyDrive/fine_tuned_t5_logical_expression_generator_for_1000examples/special_tokens_map.json',\n",
              " '/content/drive/MyDrive/fine_tuned_t5_logical_expression_generator_for_1000examples/spiece.model',\n",
              " '/content/drive/MyDrive/fine_tuned_t5_logical_expression_generator_for_1000examples/added_tokens.json')"
            ]
          },
          "metadata": {},
          "execution_count": 9
        }
      ]
    },
    {
      "cell_type": "markdown",
      "source": [
        "# PREDICTION"
      ],
      "metadata": {
        "id": "XPw_X096h_Az"
      }
    },
    {
      "cell_type": "code",
      "source": [
        "print([val_inputs])"
      ],
      "metadata": {
        "colab": {
          "base_uri": "https://localhost:8080/"
        },
        "outputId": "70f49bcd-6f50-40a4-a2da-c8ce98aede3f",
        "id": "osWidwidDJa2"
      },
      "execution_count": null,
      "outputs": [
        {
          "output_type": "stream",
          "name": "stdout",
          "text": [
            "[[\"The missile launch system's display will show a warning message iff the launch sequence is initiated and a critical failure is detected.\", 'Unless there is smoke detected in the vicinity and the fire alarm is triggered, the sprinkler system shall remain inactive. ', 'Unless the weather conditions allow for safe flight and the wind speed is within the specified range, the drone shall not take off unless manually overridden by the user.\\xa0 ', 'If a fire is detected in the reactor building and the fire suppression system fails to activate, the nuclear plant shall be shut down as a safety measure.', 'The elevator\\'s interior lights will turn off if the cabin is empty and the light control switch is in the \"off\" position.', 'The power plant will switch to backup sensors if both the primary sensors and the redundant sensors fail to provide accurate readings.', 'If the panic button is pressed or the intrusion alarm is activated, the security cameras shall start recording immediately.', 'The missile launch control room shall switch to emergency mode iff both the emergency switch is engaged and the communication system is offline.', 'Unless the maintenance check is successfully completed, the elevator shall remain out of service. ', \"If the phone's orientation changes to landscape mode while watching a video, the auto-rotate feature shall adjust the screen orientation.\", 'Unless the face mask detection system indicates that all individuals within the enclosed space are wearing masks, the automated door system shall not allow entry unless overridden by security personnel.\\xa0\\xa0', 'If the child lock feature is activated, the door lock shall always engage.', 'The intrusion alarm will remain active as long as either the motion sensor detects movement or the user manually activates the alarm.', 'If the biometric access control system fails and the access log indicates multiple unsuccessful attempts, the system shall enter lockdown mode unless the administrator manually intervenes.\\xa0\\xa0', 'The wheelchair will not ascend a ramp if the slope exceeds a 15-degree incline.', 'Always, if the dust level sensor indicates a low dust concentration (below 20%) during \"Deep Clean\" mode, reduce cleaning time to conserve energy.', 'If the escalator detects a foreign object jamming the steps and the emergency alarm is activated, the escalator shall reverse direction to clear the obstruction.', 'At any time, if the printer detects a low level of paper in the input tray and a print job is in progress, pause printing and request paper refill.', \"The rocket's guidance system will not engage in the re-entry phase unless both the re-entry mode is selected and the rocket is aligned with the desired trajectory.\", 'If the network switch firmware version is outdated and vulnerable to security exploits, it shall automatically download and install the latest firmware patch to mitigate risks.', \"The airplane's engine thrust will be adjusted continuously unless the auto-thrust system is disengaged or a manual override is initiated.\", 'If the detergent drawer is not closed after loading detergent, the washing machine shall prevent the start of the cycle and provide a reminder.', \"The bike's side stand will be retracted only if the bike is in an upright position and the side stand switch is engaged.\", 'The missile launch system will emit a failure alert iff there is a failure in the guidance system or the communication system during the launch.', \"If the smart fan's remote control battery level is low and the remote control mode is active, it shall send an alert to replace the batteries for uninterrupted operation.\", 'If the smart lock detects an unlocked status and it\\'s past midnight, the security system shall activate in \"away\" mode.', 'If an obstacle is detected within 2 meters in front of the car, the collision avoidance system shall take corrective actions, such as steering or braking, to prevent a collision.', 'The smoke detector will send a notification to the central monitoring system if it detects smoke in a monitored room.', 'Always, if the vacuum cleaner is in \"Auto-Empty\" mode and the dustbin is 90% full, initiate the automatic dustbin emptying process.', 'Always, if the jet is performing aerobatic maneuvers and the G-force exceeds 5, activate the G-suit inflation system', \" The car's doors will lock only if the ignition is on and the vehicle is in motion.\", 'If the phone is connected to a Wi-Fi network with poor signal strength, always switch to mobile data for internet connectivity.', 'The system will remain in operation if either the antivirus software is effective or the backup antivirus software successfully detects and eliminates threats.', \"The vacuum cleaner's display will show a cleaning message iff the cleaning cycle is initiated and the cleaning process is not completed.\", 'The bike will not start unless the kill switch is in the \"on\" position and the clutch lever is pulled.', \"If the vacuum cleaner's battery level is above 80% and the schedule mode is enabled, it shall start cleaning according to the preset schedule.\", 'If the depth control system fails and the ballast tanks are not responding, the submarine shall surface to prevent an uncontrolled descent.', 'If the gas turbine efficiency drops below an acceptable level and the maintenance schedule is not due, the power plant shall conduct a diagnostic check on the turbine.', 'Always, if the jet is on a reconnaissance mission and the lidar system malfunctions, switch to radar-based terrain mapping.', 'When the Computer boots up, if the other Computer has already assumed the role of Active computer, the Computer shall assume the role of Standby Computer', 'If the server software encounters a critical error resulting in application crashes more than 3 times in an hour, it shall initiate a system reboot to restore functionality.', 'If the driver-side window switch is pressed, the power windows system shall operate to open or close the driver-side window.', 'If the network switch detects a bandwidth utilization exceeding 90% and the traffic latency increases beyond a threshold of 100 milliseconds, it shall prioritize critical data packets to optimize network performance.', 'If the patient is in an emergency state, the ECG machine will prioritize monitoring over printing reports.', 'When the solar panel accumulates dust or debris exceeding 5% coverage and the wind speed is low, the system shall activate cleaning brushes to remove the debris.', \"If the escalator's emergency stop button is pressed and held for more than 5 seconds, the escalator shall shut down completely.\", 'The water temperature is below 20°C, then the washing machine will display a \"Low Temperature\" warning.', \"The ship's navigation charts will be updated every 24 hours to ensure accurate route planning during the mission.\", 'If the coffee machine detects a water leak or there is a fault in the water pump, an error message will be displayed.', 'From the next instance, if the jet is on a low-level flight and the terrain-following radar becomes unreliable, ascend to a safer altitude.', 'If a social engineering attack is identified and the user awareness training is not up to date, the cyber security system shall prompt immediate training sessions.', 'From the next instance, if the tray is overloaded with paper and a print job is received, prompt the user to reduce the paper load.', 'If the CPU utilization exceeds 95% for more than 10 minutes and the system becomes unresponsive, the computer shall initiate a forced restart to recover.', \"The rocket's guidance system will engage in cruise mode only if the cruise mode is selected and the rocket is at the designated cruising altitude.\", 'During cruise phase, the reference altitude shall always be higher than 1000 meters.', 'At all times, the absolute commanded rate of change to control surface position shall not exceed 10 degree per second.', 'The encrypted communication channel shall be established only if the biometric authentication is successful and either the GPS location matches the expected coordinates or the user provides a valid access code.', 'When the Computer boots up, if the other Computer has not already assumed the role of Active computer, the Computer shall assume the role of Active Computer.', 'If the water level sensor detects low water levels and the geyser is in operation, an alert shall be generated to refill the tank.', 'The self-driving car shall continue driving if and only if both the road conditions permit and the traffic light signals are green. ', 'If the solar panel glass is damaged and the weather forecast predicts rain, the system shall temporarily shut down to prevent further damage and electrical hazards.', 'During landing, the Flight Computer shall set the Engine throttle to 0 and air brakes applied as soon as AIA is set to false.', 'If the GPS detects a malfunction in the map data during navigation, it shall provide an alternative route if available.', 'If the fan blade encounters resistance due to dust accumulation and the blade cleaning mode is activated, it shall initiate a self-cleaning cycle to remove dust.', 'If the user forgets the PIN and requests a reset, the safe locker shall reset the PIN only after successful authentication through a secondary method.', 'The security alarm will remain disarmed unless both the user manually activates the alarm and the system is not in a lockdown state.', 'If a breach in the reactor vessel is detected and the radiation containment system fails to engage, the nuclear plant shall be immediately shut down.', 'From the next instance, if the jet is in a severe icing condition and the anti-icing system fails, exit the icing condition and switch to manual control.', 'If the temperature inside the refrigerator is above 4 degrees Celsius and the door is closed, the cooling system shall be activated within 5 minutes.', 'The GPS will not calculate the estimated time of arrival (ETA) unless the destination is set and the route is actively being followed.', 'If the gear selector is in the \"Park\" position and the ignition is off, the parking brake shall be engaged.', 'The vacuum cleaner will switch to energy-saving mode iff it is idle for more than 15 minutes and the energy-saving switch is engaged.', 'Always, if the jet is on a strike mission and the target coordinates are updated by command, adjust flight path and target alignment.', 'During an emergency landing, if and only if the landing gear deploys successfully and the runway is clear, the emergency procedure shall be considered successful. ', 'If the solar panel voltage drops below 10 volts and the sunlight intensity is sufficient, the system shall activate a voltage booster to maintain power output.', 'When the user activates the \"Party Mode\" via the smart home app, all lights in the house shall change color and pulse rhythmically to the beat of the music.', 'The digital signage display shall show promotional content if and only if both the time is within 9 am to 5 pm and the foot traffic in the vicinity exceeds 100 people.\\xa0 ', 'Engine failure shall be declared if the measured engine RPM is 90% or less in comparison to expected engine RPM continuously for 300 samples.', \"The ship's anti-aircraft defense system will be activated only if there is an incoming threat and the defense mode is engaged.\", 'When the antenna mast height exceeds 20 feet and strong winds are forecasted, the system shall lower the mast to reduce wind load.', \"The vehicle's autonomous mode shall engage if and only if both the weather conditions are clear and the lidar sensor detects no obstacles within a 20-meter radius.\", 'When the other Computer boots up, the Active Computer shall detect the same.', 'The escalator shall only reverse direction when the safety sensors detect no obstruction on the opposite end and no passengers are on the escalator.', 'When the other Computer boots up, the Active Computer shall send the state information to Standby Computer.', 'If the network switch detects a power surge exceeding 10% of the normal voltage, it shall activate surge protection mechanisms to safeguard connected devices.', 'If a critical failure is detected in the navigation system during the climb phase, the climb shall be aborted only if the current altitude is below the minimum safe altitude.', 'The calculator will store a user-defined constant if the user presses the \"Store\" button after entering a value.', 'When the battery charge falls below 20%, power-intensive applications shall be temporarily disabled.', 'During a security breach, if and only if the intruder is detected and the security cameras fail to record, the alarm shall be sounded.\\xa0\\xa0', 'If the server temperature rises above 45 degrees Celsius and the hardware monitoring system detects critical temperature levels, it shall automatically shutdown to prevent damage.', \"If the weather conditions are unfavorable or there is a fault in the sensor system, the cable car's speed will be reduced.\", 'The oven light will turn on iff the oven door is open and the light switch is pressed.', 'If the missile navigation system fails during launch and the missile is armed, the launch shall be aborted immediately.', \"If the geyser's power cable is damaged and there is no power supply, the geyser shall remain non-operational until the cable is repaired.\", 'If the atmospheric pressure drops significantly and the oxygen masks are not manually deployed, the aircraft shall deploy them automatically', 'The coffee machine will switch to energy-saving mode iff it is idle for more than 10 minutes and the energy-saving switch is engaged.', 'From the next instance, if the HEPA filter differential pressure exceeds 15 Pa (Pascals) and the vacuum cleaner is running, display a \"Replace HEPA Filter\" warning.', 'If the ambient light is below 50 lux, the car headlights shall  be turned on.', 'If a remote terminal does not respond on either primary or secondary bus for 3 consecutive commands, the Active Computer shall declare communication failure for that remote terminal.', 'Always, if the radar detects an incoming threat and the missile system is operational, engage defensive maneuvers.', 'During mission critical operations, if the data integrity check fails, data transmission shall be halted immediately. ']]\n"
          ]
        }
      ]
    },
    {
      "cell_type": "code",
      "source": [
        "# Iterate over each English statement\n",
        "for statement in val_inputs:\n",
        "    # Example input\n",
        "    prompt = statement\n",
        "    # Tokenize the input\n",
        "    input_ids = tokenizer.encode(prompt, return_tensors=\"pt\")\n",
        "    # Generate predictions\n",
        "    device = torch.device(\"cuda\" if torch.cuda.is_available() else \"cpu\")\n",
        "    model.to(device)\n",
        "    with torch.no_grad():\n",
        "        input_ids = input_ids.to(device)\n",
        "        output = model.generate(input_ids, max_length=50)\n",
        "    # Decode and print the output\n",
        "    decoded_output = tokenizer.decode(output[0], skip_special_tokens=True)\n",
        "    print(f\"English Statement: {statement}\")\n",
        "    print(f\"Generated Logic Expression: {decoded_output}\\n\")\n"
      ],
      "metadata": {
        "colab": {
          "base_uri": "https://localhost:8080/"
        },
        "id": "lz_m_H7Ee3Jq",
        "outputId": "d9a085df-098a-4cea-8a4a-86c26090f9f4"
      },
      "execution_count": null,
      "outputs": [
        {
          "output_type": "stream",
          "name": "stdout",
          "text": [
            "English Statement: The missile launch system's display will show a warning message iff the launch sequence is initiated and a critical failure is detected.\n",
            "Generated Logic Expression: (Launch Sequence Initiated and Critical Failure Detected) --> (Display Warning Message)\n",
            "\n",
            "English Statement: Unless there is smoke detected in the vicinity and the fire alarm is triggered, the sprinkler system shall remain inactive. \n",
            "Generated Logic Expression: (not(Smoke detected in vicinity and Fire alarm triggered)-->(Sprinkler system inactive)\n",
            "\n",
            "English Statement: Unless the weather conditions allow for safe flight and the wind speed is within the specified range, the drone shall not take off unless manually overridden by the user.  \n",
            "Generated Logic Expression: (not(Weather conditions allow for safe flight and Wind speed within specified range)-->(Drone does not take off)\n",
            "\n",
            "English Statement: If a fire is detected in the reactor building and the fire suppression system fails to activate, the nuclear plant shall be shut down as a safety measure.\n",
            "Generated Logic Expression: (Reactor Building Fire Detected and (not(Fire Suppression System Activated)) --> (ShutDown Nuclear Plant)\n",
            "\n",
            "English Statement: The elevator's interior lights will turn off if the cabin is empty and the light control switch is in the \"off\" position.\n",
            "Generated Logic Expression: (Cabin Empty and Light Control Switch Off) --> (Interior Lights Off)\n",
            "\n",
            "English Statement: The power plant will switch to backup sensors if both the primary sensors and the redundant sensors fail to provide accurate readings.\n",
            "Generated Logic Expression: (Primary Sensors Failure To Provide Accurate Readings) --> (Switch To Backup Sensors)\n",
            "\n",
            "English Statement: If the panic button is pressed or the intrusion alarm is activated, the security cameras shall start recording immediately.\n",
            "Generated Logic Expression: (Pause Button Pressed or Intrusion Alarm Activated) --> (Stop Recording Security Cameras)\n",
            "\n",
            "English Statement: The missile launch control room shall switch to emergency mode iff both the emergency switch is engaged and the communication system is offline.\n",
            "Generated Logic Expression: (Emergency Switch Engaged and Communication System Offline) --> (Emergency Mode Activated)\n",
            "\n",
            "English Statement: Unless the maintenance check is successfully completed, the elevator shall remain out of service. \n",
            "Generated Logic Expression: (not(Maintenance check successfully completed)-->(Elevator out of service)\n",
            "\n",
            "English Statement: If the phone's orientation changes to landscape mode while watching a video, the auto-rotate feature shall adjust the screen orientation.\n",
            "Generated Logic Expression: (Orientation Changes To Landscape Mode and Watching Video) --> (Auto Rotate Adjusts Screen Position)\n",
            "\n",
            "English Statement: Unless the face mask detection system indicates that all individuals within the enclosed space are wearing masks, the automated door system shall not allow entry unless overridden by security personnel.  \n",
            "Generated Logic Expression: (not(Face mask detection system indicates that all individuals within enclosed space wear masks)-->(Automatic door system does not allow entry)\n",
            "\n",
            "English Statement: If the child lock feature is activated, the door lock shall always engage.\n",
            "Generated Logic Expression: (Child lock feature activated)-->(Always door lock engages)\n",
            "\n",
            "English Statement: The intrusion alarm will remain active as long as either the motion sensor detects movement or the user manually activates the alarm.\n",
            "Generated Logic Expression: (Motion Sensor Detects Movement or User Manually Activates Alarm) --> (Intrusion Alarm Active)\n",
            "\n",
            "English Statement: If the biometric access control system fails and the access log indicates multiple unsuccessful attempts, the system shall enter lockdown mode unless the administrator manually intervenes.  \n",
            "Generated Logic Expression: (Biometric access control system failure and Access log indicates multiple unsuccessful attempts)-->(System locksdown mode)\n",
            "\n",
            "English Statement: The wheelchair will not ascend a ramp if the slope exceeds a 15-degree incline.\n",
            "Generated Logic Expression: (not(Slope > 15 degrees)-->(Ascend ramp)\n",
            "\n",
            "English Statement: Always, if the dust level sensor indicates a low dust concentration (below 20%) during \"Deep Clean\" mode, reduce cleaning time to conserve energy.\n",
            "Generated Logic Expression: (Dust concentration  20% during \"Deep Clean\" mode)-->(always Reduce cleaning time)\n",
            "\n",
            "English Statement: If the escalator detects a foreign object jamming the steps and the emergency alarm is activated, the escalator shall reverse direction to clear the obstruction.\n",
            "Generated Logic Expression: (Foreign object jamming steps and Emergency alarm activated)-->(Reverse direction for clear obstruction)\n",
            "\n",
            "English Statement: At any time, if the printer detects a low level of paper in the input tray and a print job is in progress, pause printing and request paper refill.\n",
            "Generated Logic Expression: (At any time Printer detects low level of paper in input tray and Print job in progress)-->(Pause printing and request paper refill)\n",
            "\n",
            "English Statement: The rocket's guidance system will not engage in the re-entry phase unless both the re-entry mode is selected and the rocket is aligned with the desired trajectory.\n",
            "Generated Logic Expression: (Reentry Mode Selected and Rocket Aligned With Desired Trajectories) --> (Reentry Phase)\n",
            "\n",
            "English Statement: If the network switch firmware version is outdated and vulnerable to security exploits, it shall automatically download and install the latest firmware patch to mitigate risks.\n",
            "Generated Logic Expression: (Firewall version outdated and Security exploits)-->(Automatically download and install latest firmware patch)\n",
            "\n",
            "English Statement: The airplane's engine thrust will be adjusted continuously unless the auto-thrust system is disengaged or a manual override is initiated.\n",
            "Generated Logic Expression: (not(Auto Thrust System Engaged or Manual Override Initiated) --> (Engine Thrust Adjusted Continuously)\n",
            "\n",
            "English Statement: If the detergent drawer is not closed after loading detergent, the washing machine shall prevent the start of the cycle and provide a reminder.\n",
            "Generated Logic Expression: (not(Detergent drawer closed after loading detergent))-->(Prevent start of cycle and Provide reminder)\n",
            "\n",
            "English Statement: The bike's side stand will be retracted only if the bike is in an upright position and the side stand switch is engaged.\n",
            "Generated Logic Expression: (Bike upright and Side stand switch engaged)-->(Retract side stand)\n",
            "\n",
            "English Statement: The missile launch system will emit a failure alert iff there is a failure in the guidance system or the communication system during the launch.\n",
            "Generated Logic Expression: (Guidance System Failure or Communication System During Launch) --> (Emit Failure Alert)\n",
            "\n",
            "English Statement: If the smart fan's remote control battery level is low and the remote control mode is active, it shall send an alert to replace the batteries for uninterrupted operation.\n",
            "Generated Logic Expression: (Remote control battery level is low and Remote control mode is active)-->(Send alert to replace batteries)\n",
            "\n",
            "English Statement: If the smart lock detects an unlocked status and it's past midnight, the security system shall activate in \"away\" mode.\n",
            "Generated Logic Expression: (Unlocked Status and Past midnight) --> (Activate Security System In \"away\" mode)\n",
            "\n",
            "English Statement: If an obstacle is detected within 2 meters in front of the car, the collision avoidance system shall take corrective actions, such as steering or braking, to prevent a collision.\n",
            "Generated Logic Expression: (Obstacle detected within 2 meters)-->(Take corrective actions)\n",
            "\n",
            "English Statement: The smoke detector will send a notification to the central monitoring system if it detects smoke in a monitored room.\n",
            "Generated Logic Expression: (Smoke detected in monitored room)-->(Send notification to central monitoring system)\n",
            "\n",
            "English Statement: Always, if the vacuum cleaner is in \"Auto-Empty\" mode and the dustbin is 90% full, initiate the automatic dustbin emptying process.\n",
            "Generated Logic Expression: (Vacuum cleaner in \"Auto-Empty\" mode and Dustbin is 90% full)-->(Always Initiate automatic dustbin emptying process)\n",
            "\n",
            "English Statement: Always, if the jet is performing aerobatic maneuvers and the G-force exceeds 5, activate the G-suit inflation system\n",
            "Generated Logic Expression: (Jet performing aerobatic maneuvers and G-force > 5)-->(Always Activate G-suit inflation system)\n",
            "\n",
            "English Statement:  The car's doors will lock only if the ignition is on and the vehicle is in motion.\n",
            "Generated Logic Expression: (Ignition On and Vehicle In Motion) --> (Doors Locked)\n",
            "\n",
            "English Statement: If the phone is connected to a Wi-Fi network with poor signal strength, always switch to mobile data for internet connectivity.\n",
            "Generated Logic Expression: (Phone is connected to Wi-Fi network with poor signal strength)-->(Always switch to mobile data for internet connectivity)\n",
            "\n",
            "English Statement: The system will remain in operation if either the antivirus software is effective or the backup antivirus software successfully detects and eliminates threats.\n",
            "Generated Logic Expression: (Aviator Software Effective or Backup Antivirus Software Eliminates Threats) --> (System In Operation)\n",
            "\n",
            "English Statement: The vacuum cleaner's display will show a cleaning message iff the cleaning cycle is initiated and the cleaning process is not completed.\n",
            "Generated Logic Expression: (Cleaning Cycle Initiated and Cleaning Process Not Completed) --> (Cleaning Message Displayed)\n",
            "\n",
            "English Statement: The bike will not start unless the kill switch is in the \"on\" position and the clutch lever is pulled.\n",
            "Generated Logic Expression: (On and Clutch Lever Pulled) --> (Bike Starts)\n",
            "\n",
            "English Statement: If the vacuum cleaner's battery level is above 80% and the schedule mode is enabled, it shall start cleaning according to the preset schedule.\n",
            "Generated Logic Expression: (Battery level > 80% and Schedule mode is enabled)-->(Start cleaning according to preset schedule)\n",
            "\n",
            "English Statement: If the depth control system fails and the ballast tanks are not responding, the submarine shall surface to prevent an uncontrolled descent.\n",
            "Generated Logic Expression: (Depth Control System Failure and (not(Ballast Tanks Responding)) --> (Surface For Prevent Uncontrolled Descent)\n",
            "\n",
            "English Statement: If the gas turbine efficiency drops below an acceptable level and the maintenance schedule is not due, the power plant shall conduct a diagnostic check on the turbine.\n",
            "Generated Logic Expression: (Gas turbine efficiency  acceptable level and (not(Maintenance schedule due))-->(Conduct diagnostic check on turbine)\n",
            "\n",
            "English Statement: Always, if the jet is on a reconnaissance mission and the lidar system malfunctions, switch to radar-based terrain mapping.\n",
            "Generated Logic Expression: (Jet on reconnaissance mission and Lidar system malfunctions)-->(always Switch to radar-based terrain mapping)\n",
            "\n",
            "English Statement: When the Computer boots up, if the other Computer has already assumed the role of Active computer, the Computer shall assume the role of Standby Computer\n",
            "Generated Logic Expression: (Computer boots up and (not(Always) Active computer assumed role)-->(Computer assumes standby computer)\n",
            "\n",
            "English Statement: If the server software encounters a critical error resulting in application crashes more than 3 times in an hour, it shall initiate a system reboot to restore functionality.\n",
            "Generated Logic Expression: (Critical error resulting in application crashes > 3 times in an hour)-->(Initiate system reboot)\n",
            "\n",
            "English Statement: If the driver-side window switch is pressed, the power windows system shall operate to open or close the driver-side window.\n",
            "Generated Logic Expression: (Driver-side window switch is pressed)-->(Operate power windows system to open or close driver-side window)\n",
            "\n",
            "English Statement: If the network switch detects a bandwidth utilization exceeding 90% and the traffic latency increases beyond a threshold of 100 milliseconds, it shall prioritize critical data packets to optimize network performance.\n",
            "Generated Logic Expression: (Breach utilization > 90% and Traffic latency > 100 ms)-->(Prioritize critical data packets)\n",
            "\n",
            "English Statement: If the patient is in an emergency state, the ECG machine will prioritize monitoring over printing reports.\n",
            "Generated Logic Expression: (Patient in emergency state)-->(Prioritize monitoring of ECG machine)\n",
            "\n",
            "English Statement: When the solar panel accumulates dust or debris exceeding 5% coverage and the wind speed is low, the system shall activate cleaning brushes to remove the debris.\n",
            "Generated Logic Expression: (Dust or Debris > 5% coverage and Wind speed is low)-->(Activate cleaning brushes)\n",
            "\n",
            "English Statement: If the escalator's emergency stop button is pressed and held for more than 5 seconds, the escalator shall shut down completely.\n",
            "Generated Logic Expression: (Emergency stop button pressed and Holds for > 5 seconds) --> (ShutDown Completely)\n",
            "\n",
            "English Statement: The water temperature is below 20°C, then the washing machine will display a \"Low Temperature\" warning.\n",
            "Generated Logic Expression: (Water temperature  20°C)-->(Display \"Low Temperature\" warning)\n",
            "\n",
            "English Statement: The ship's navigation charts will be updated every 24 hours to ensure accurate route planning during the mission.\n",
            "Generated Logic Expression: (Navigation Charts Updated Every 24 Hours) --> (Update Navigation Charts)\n",
            "\n",
            "English Statement: If the coffee machine detects a water leak or there is a fault in the water pump, an error message will be displayed.\n",
            "Generated Logic Expression: (Water Leak or Water Pump Fault) --> (Error Message Displayed)\n",
            "\n",
            "English Statement: From the next instance, if the jet is on a low-level flight and the terrain-following radar becomes unreliable, ascend to a safer altitude.\n",
            "Generated Logic Expression: (Jet on low-level flight and not(TFR reliable))-->(from the next instance Ascend to safer altitude)\n",
            "\n",
            "English Statement: If a social engineering attack is identified and the user awareness training is not up to date, the cyber security system shall prompt immediate training sessions.\n",
            "Generated Logic Expression: (Social engineering attack identified and (not(User awareness training up to date))-->(Prompt immediate training sessions)\n",
            "\n",
            "English Statement: From the next instance, if the tray is overloaded with paper and a print job is received, prompt the user to reduce the paper load.\n",
            "Generated Logic Expression: (Tray overloaded with paper and Print job received)-->(from the next instance Prompt user to reduce paper load)\n",
            "\n",
            "English Statement: If the CPU utilization exceeds 95% for more than 10 minutes and the system becomes unresponsive, the computer shall initiate a forced restart to recover.\n",
            "Generated Logic Expression: (CPU utilization > 95% for > 10 minutes and System unresponsive)-->(Initiate forced restart)\n",
            "\n",
            "English Statement: The rocket's guidance system will engage in cruise mode only if the cruise mode is selected and the rocket is at the designated cruising altitude.\n",
            "Generated Logic Expression: (Cruise Mode Selected and Rocket At Designated Cruising Altitude) --> (Engage Guidance System Cruise Mode)\n",
            "\n",
            "English Statement: During cruise phase, the reference altitude shall always be higher than 1000 meters.\n",
            "Generated Logic Expression: During cruise phase --> (always) reference altitude > 1000 meters\n",
            "\n",
            "English Statement: At all times, the absolute commanded rate of change to control surface position shall not exceed 10 degree per second.\n",
            "Generated Logic Expression: absolute commanded rate of change to control surface position == 10 degree per second\n",
            "\n",
            "English Statement: The encrypted communication channel shall be established only if the biometric authentication is successful and either the GPS location matches the expected coordinates or the user provides a valid access code.\n",
            "Generated Logic Expression: (Biometric authentication successful and GPS location matches expected coordinates or Valid access code provided)-->(Encrypted communication channel)\n",
            "\n",
            "English Statement: When the Computer boots up, if the other Computer has not already assumed the role of Active computer, the Computer shall assume the role of Active Computer.\n",
            "Generated Logic Expression: (Computer boots up and (not(Other Computer has assumed Active computer))-->(Computer assumes Active computer)\n",
            "\n",
            "English Statement: If the water level sensor detects low water levels and the geyser is in operation, an alert shall be generated to refill the tank.\n",
            "Generated Logic Expression: (Low water levels detected and Geyser is in operation)-->(Generate alert for refilling tank)\n",
            "\n",
            "English Statement: The self-driving car shall continue driving if and only if both the road conditions permit and the traffic light signals are green. \n",
            "Generated Logic Expression: (Rain conditions permit and Traffic light signals green)-->(Self-driving car continues driving)\n",
            "\n",
            "English Statement: If the solar panel glass is damaged and the weather forecast predicts rain, the system shall temporarily shut down to prevent further damage and electrical hazards.\n",
            "Generated Logic Expression: (Solar panel glass damaged and Weather forecast predicts rain)-->(Temporarily shut down to prevent further damage and electrical hazards)\n",
            "\n",
            "English Statement: During landing, the Flight Computer shall set the Engine throttle to 0 and air brakes applied as soon as AIA is set to false.\n",
            "Generated Logic Expression: During landing --> Engine throttle = 0 and Air brakes applied as soon as AIA is set to false\n",
            "\n",
            "English Statement: If the GPS detects a malfunction in the map data during navigation, it shall provide an alternative route if available.\n",
            "Generated Logic Expression: (Map Data Malfunction During Navigation) --> (Provide Alternative Route)\n",
            "\n",
            "English Statement: If the fan blade encounters resistance due to dust accumulation and the blade cleaning mode is activated, it shall initiate a self-cleaning cycle to remove dust.\n",
            "Generated Logic Expression: (Fan Blade Resistance Due To Dust accumulation and Blade Cleaning Mode Activated) --> (Initiate Self Cleaning Cycle)\n",
            "\n",
            "English Statement: If the user forgets the PIN and requests a reset, the safe locker shall reset the PIN only after successful authentication through a secondary method.\n",
            "Generated Logic Expression: (User forgets PIN and Requests Reset) --> (Reset PIN)\n",
            "\n",
            "English Statement: The security alarm will remain disarmed unless both the user manually activates the alarm and the system is not in a lockdown state.\n",
            "Generated Logic Expression: (not(UserActivates Alarm and (not(SystemInLockdownState)) --> (Security Alarm Disarmed)\n",
            "\n",
            "English Statement: If a breach in the reactor vessel is detected and the radiation containment system fails to engage, the nuclear plant shall be immediately shut down.\n",
            "Generated Logic Expression: (Reactor Vessel Detected and (not(Radar Containment System Engaged) --> (Immediately Shutdown Nuclear Plant)\n",
            "\n",
            "English Statement: From the next instance, if the jet is in a severe icing condition and the anti-icing system fails, exit the icing condition and switch to manual control.\n",
            "Generated Logic Expression: (Jet in severe icing condition and Anti-icing system fails)-->(from the next instance Exit icing condition and switch to manual control)\n",
            "\n",
            "English Statement: If the temperature inside the refrigerator is above 4 degrees Celsius and the door is closed, the cooling system shall be activated within 5 minutes.\n",
            "Generated Logic Expression: Triggered_Time_Action((Refrigerator temperature > 4 degrees Celsius and Door closed), (Cooling system activated), 5 minutes)\n",
            "\n",
            "English Statement: The GPS will not calculate the estimated time of arrival (ETA) unless the destination is set and the route is actively being followed.\n",
            "Generated Logic Expression: (Destination Set and Route Actively Followed) --> (Calculate Estimated Time Of Arrival)\n",
            "\n",
            "English Statement: If the gear selector is in the \"Park\" position and the ignition is off, the parking brake shall be engaged.\n",
            "Generated Logic Expression: (Gear selector in \"Park\" position and Ignition is off)-->(Parking brake engaged)\n",
            "\n",
            "English Statement: The vacuum cleaner will switch to energy-saving mode iff it is idle for more than 15 minutes and the energy-saving switch is engaged.\n",
            "Generated Logic Expression: (Idle For More Than 15 Minutes and Energy Saving Switch Engaged) --> (Energy Saving Mode Activated)\n",
            "\n",
            "English Statement: Always, if the jet is on a strike mission and the target coordinates are updated by command, adjust flight path and target alignment.\n",
            "Generated Logic Expression: (Jet on strike mission and Target coordinates updated by command)-->(Always Adjust flight path and Target alignment)\n",
            "\n",
            "English Statement: During an emergency landing, if and only if the landing gear deploys successfully and the runway is clear, the emergency procedure shall be considered successful. \n",
            "Generated Logic Expression: (During emergency landing)-->(Landing gear deploys successfully and Runway is clear)-->(Emergency procedure considered successful)\n",
            "\n",
            "English Statement: If the solar panel voltage drops below 10 volts and the sunlight intensity is sufficient, the system shall activate a voltage booster to maintain power output.\n",
            "Generated Logic Expression: (Solar panel voltage  10 volts and Sunlight intensity sufficient)-->(Activate voltage booster for power output)\n",
            "\n",
            "English Statement: When the user activates the \"Party Mode\" via the smart home app, all lights in the house shall change color and pulse rhythmically to the beat of the music.\n",
            "Generated Logic Expression: (Party Mode Activated) --> (All lights change color and pulse rhythmically to beat of music)\n",
            "\n",
            "English Statement: The digital signage display shall show promotional content if and only if both the time is within 9 am to 5 pm and the foot traffic in the vicinity exceeds 100 people.  \n",
            "Generated Logic Expression: (Time is within 9 am to 5 pm and Foot traffic in vicinity > 100 people)-->(Digital signage display shows promotional content)\n",
            "\n",
            "English Statement: Engine failure shall be declared if the measured engine RPM is 90% or less in comparison to expected engine RPM continuously for 300 samples.\n",
            "Generated Logic Expression: (Measured engine rpm is less than 90% of expected engine rpm persists for 300 samples) --> Engine failure declared\n",
            "\n",
            "English Statement: The ship's anti-aircraft defense system will be activated only if there is an incoming threat and the defense mode is engaged.\n",
            "Generated Logic Expression: (Incoming Threat and Defense Mode Engaged) --> (Activate AntiAircraft Defense System)\n",
            "\n",
            "English Statement: When the antenna mast height exceeds 20 feet and strong winds are forecasted, the system shall lower the mast to reduce wind load.\n",
            "Generated Logic Expression: (Antenna mast height > 20 feet and Strong winds forecasted)-->(Low mast for wind load)\n",
            "\n",
            "English Statement: The vehicle's autonomous mode shall engage if and only if both the weather conditions are clear and the lidar sensor detects no obstacles within a 20-meter radius.\n",
            "Generated Logic Expression: (Weather conditions clear and No obstacles detected within 20 meters)-->(Autonomous mode activated)\n",
            "\n",
            "English Statement: When the other Computer boots up, the Active Computer shall detect the same.\n",
            "Generated Logic Expression: (Other Computer boots up) --> (Active Computer detects the same)\n",
            "\n",
            "English Statement: The escalator shall only reverse direction when the safety sensors detect no obstruction on the opposite end and no passengers are on the escalator.\n",
            "Generated Logic Expression: (Safety sensors detect no obstruction on opposite end and No passengers on escalator)-->(Reverse direction)\n",
            "\n",
            "English Statement: When the other Computer boots up, the Active Computer shall send the state information to Standby Computer.\n",
            "Generated Logic Expression: (Other Computer boots up) --> (Send state information to Standby Computer)\n",
            "\n",
            "English Statement: If the network switch detects a power surge exceeding 10% of the normal voltage, it shall activate surge protection mechanisms to safeguard connected devices.\n",
            "Generated Logic Expression: (Power surge > 10% of normal voltage)-->(Activate surge protection mechanisms)\n",
            "\n",
            "English Statement: If a critical failure is detected in the navigation system during the climb phase, the climb shall be aborted only if the current altitude is below the minimum safe altitude.\n",
            "Generated Logic Expression: (Navigation System Critical Failure and Climb Phase) --> (Abort Climb --> Altitude  Minimum Safe Altitude)\n",
            "\n",
            "English Statement: The calculator will store a user-defined constant if the user presses the \"Store\" button after entering a value.\n",
            "Generated Logic Expression: (User presses \"Store\" button after entering value)-->(Store user-defined constant)\n",
            "\n",
            "English Statement: When the battery charge falls below 20%, power-intensive applications shall be temporarily disabled.\n",
            "Generated Logic Expression: (Battery charge  20%)-->(Power-intensive applications temporarily disabled)\n",
            "\n",
            "English Statement: During a security breach, if and only if the intruder is detected and the security cameras fail to record, the alarm shall be sounded.  \n",
            "Generated Logic Expression: (Security breach)-->(Intruder detected and Security cameras fail to record)-->(Alarm sounded)\n",
            "\n",
            "English Statement: If the server temperature rises above 45 degrees Celsius and the hardware monitoring system detects critical temperature levels, it shall automatically shutdown to prevent damage.\n",
            "Generated Logic Expression: (Server temperature > 45 degrees Celsius and Critical temperature levels detected)-->(Automatically shutdown for prevent damage)\n",
            "\n",
            "English Statement: If the weather conditions are unfavorable or there is a fault in the sensor system, the cable car's speed will be reduced.\n",
            "Generated Logic Expression: (Weather Conditions Unfavorable or Sensor System Fault) --> (Cable Car Speed Reduced)\n",
            "\n",
            "English Statement: The oven light will turn on iff the oven door is open and the light switch is pressed.\n",
            "Generated Logic Expression: (Oven Door Open and Light Switch Pressed) --> (Oven Light On)\n",
            "\n",
            "English Statement: If the missile navigation system fails during launch and the missile is armed, the launch shall be aborted immediately.\n",
            "Generated Logic Expression: (Missile Navigation System Failure During Launch and Missile Armed) --> (Launch Aborted Immediately)\n",
            "\n",
            "English Statement: If the geyser's power cable is damaged and there is no power supply, the geyser shall remain non-operational until the cable is repaired.\n",
            "Generated Logic Expression: (Power cable damaged and (not(Power supply)))-->(Geyser is non-operational until cable is repaired)\n",
            "\n",
            "English Statement: If the atmospheric pressure drops significantly and the oxygen masks are not manually deployed, the aircraft shall deploy them automatically\n",
            "Generated Logic Expression: (Atmosphere pressure drops significantly and (not(Oxygen masks manually deployed))-->(Deploy them automatically)\n",
            "\n",
            "English Statement: The coffee machine will switch to energy-saving mode iff it is idle for more than 10 minutes and the energy-saving switch is engaged.\n",
            "Generated Logic Expression: (Idle For More Than 10 Minutes and Energy Saving Switch Engaged) --> (Energy Saving Mode Activated)\n",
            "\n",
            "English Statement: From the next instance, if the HEPA filter differential pressure exceeds 15 Pa (Pascals) and the vacuum cleaner is running, display a \"Replace HEPA Filter\" warning.\n",
            "Generated Logic Expression: (Filter differential pressure > 15 Pa and Vacuum cleaner is running)-->(from the next instance Display \"Replace HEPA Filter\" warning)\n",
            "\n",
            "English Statement: If the ambient light is below 50 lux, the car headlights shall  be turned on.\n",
            "Generated Logic Expression: (Ambient light  50 lux)-->(Turn on headlights)\n",
            "\n",
            "English Statement: If a remote terminal does not respond on either primary or secondary bus for 3 consecutive commands, the Active Computer shall declare communication failure for that remote terminal.\n",
            "Generated Logic Expression: (Remote terminal does not respond to command persists for 3 commands) --> Active Computer declares communication failure\n",
            "\n",
            "English Statement: Always, if the radar detects an incoming threat and the missile system is operational, engage defensive maneuvers.\n",
            "Generated Logic Expression: (Radar detects incoming threat and Missile system operational)-->(Always Engage defensive maneuvers)\n",
            "\n",
            "English Statement: During mission critical operations, if the data integrity check fails, data transmission shall be halted immediately. \n",
            "Generated Logic Expression: (During mission critical operations and Data integrity check fails)-->(Data transmission halted immediately)\n",
            "\n"
          ]
        }
      ]
    },
    {
      "cell_type": "code",
      "source": [
        "# Example input\n",
        "prompt = \"Generate propositional logic for: During landing, the Flight Computer shall apply intermittent wheel brakes only when AIA is false and speed is less than 100 m/s and higher than 80 m/s.\"\n",
        "# Tokenize the input\n",
        "input_ids = tokenizer.encode(prompt, return_tensors=\"pt\")\n",
        "# Generate predictions\n",
        "device = torch.device(\"cuda\" if torch.cuda.is_available() else \"cpu\")\n",
        "model.to(device)\n",
        "with torch.no_grad():\n",
        "  input_ids = input_ids.to(device)\n",
        "  output = model.generate(input_ids, max_new_tokens=50)\n",
        "# Decode and print the output\n",
        "decoded_output = tokenizer.decode(output[0], skip_special_tokens=True)\n",
        "print(decoded_output)"
      ],
      "metadata": {
        "colab": {
          "base_uri": "https://localhost:8080/"
        },
        "id": "F8WnNVBDh9br",
        "outputId": "0ecb742f-9efd-4b65-fd4e-16ceafa5643f"
      },
      "execution_count": null,
      "outputs": [
        {
          "output_type": "stream",
          "name": "stdout",
          "text": [
            "During landing --> (Intermittent wheel brakes applied --> AIA is false and speed  100 m/s and > 80 m/s)\n"
          ]
        }
      ]
    },
    {
      "cell_type": "code",
      "source": [
        "import pandas as pd\n",
        "from sklearn.model_selection import train_test_split\n",
        "from transformers import T5Tokenizer, T5ForConditionalGeneration\n",
        "from torch.utils.data import DataLoader, TensorDataset\n",
        "import torch\n",
        "import torch.optim as optim\n",
        "from sklearn.metrics import confusion_matrix\n",
        "import matplotlib.pyplot as plt\n",
        "\n",
        "# Load the dataset\n",
        "dataset_path = \"dataset.csv\"\n",
        "df = pd.read_csv(dataset_path)\n",
        "\n",
        "# Split the dataset into train and validation sets\n",
        "train_df, val_df = train_test_split(df, test_size=0.1, random_state=42)\n",
        "\n",
        "# Extract English statements and logic expressions\n",
        "train_inputs = train_df[\"NL Statement\"].tolist()\n",
        "train_outputs = train_df[\"Logic Expression\"].tolist()\n",
        "val_inputs = val_df[\"NL Statement\"].tolist()\n",
        "val_outputs = val_df[\"Logic Expression\"].tolist()\n",
        "\n",
        "# Tokenize inputs and outputs\n",
        "tokenizer = T5Tokenizer.from_pretrained(\"t5-base\")\n",
        "\n",
        "train_encodings = tokenizer(train_inputs, return_tensors=\"pt\", padding=True, truncation=True)\n",
        "train_labels = tokenizer(train_outputs, return_tensors=\"pt\", padding=True, truncation=True)\n",
        "val_encodings = tokenizer(val_inputs, return_tensors=\"pt\", padding=True, truncation=True)\n",
        "val_labels = tokenizer(val_outputs, return_tensors=\"pt\", padding=True, truncation=True)\n",
        "\n",
        "# Create TensorDatasets for train and validation sets\n",
        "train_dataset = TensorDataset(train_encodings.input_ids, train_encodings.attention_mask, train_labels.input_ids)\n",
        "val_dataset = TensorDataset(val_encodings.input_ids, val_encodings.attention_mask, val_labels.input_ids)\n",
        "\n",
        "# Define model and training parameters\n",
        "model = T5ForConditionalGeneration.from_pretrained(\"t5-base\")\n",
        "batch_size = 8\n",
        "epochs = 5\n",
        "optimizer = optim.AdamW(model.parameters(), lr=0.0005)\n",
        "device = torch.device(\"cuda\" if torch.cuda.is_available() else \"cpu\")\n",
        "\n",
        "# Move model to appropriate device\n",
        "model.to(device)\n",
        "\n",
        "# Train the model\n",
        "train_loader = DataLoader(train_dataset, batch_size=batch_size, shuffle=True)\n",
        "train_losses = []\n",
        "\n",
        "for epoch in range(epochs):\n",
        "    model.train()\n",
        "    total_loss = 0.0\n",
        "\n",
        "    for batch in train_loader:\n",
        "        input_ids, attention_mask, labels = tuple(t.to(device) for t in batch)\n",
        "\n",
        "        optimizer.zero_grad()\n",
        "        outputs = model(input_ids, attention_mask=attention_mask, labels=labels)\n",
        "        loss = outputs.loss\n",
        "        loss.backward()\n",
        "        optimizer.step()\n",
        "\n",
        "        total_loss += loss.item()\n",
        "\n",
        "    avg_loss = total_loss / len(train_loader)\n",
        "    print(f\"Epoch {epoch + 1}/{epochs}, Avg Loss: {avg_loss}\")\n",
        "    train_losses.append(avg_loss)\n",
        "\n",
        "# Plot training loss\n",
        "plt.plot(range(1, epochs + 1), train_losses, label='Training Loss')\n",
        "plt.xlabel('Epoch')\n",
        "plt.ylabel('Loss')\n",
        "plt.legend()\n",
        "plt.show()\n",
        "\n",
        "# Evaluate on the validation set\n",
        "model.eval()\n",
        "val_loader = DataLoader(val_dataset)\n",
        "\n",
        "predicted_logic_expressions = []\n",
        "true_logic_expressions = []\n",
        "\n",
        "with torch.no_grad():\n",
        "    total_val_loss = 0.0\n",
        "    for batch in val_loader:\n",
        "        input_ids, attention_mask, labels = tuple(t.to(device) for t in batch)\n",
        "        outputs = model(input_ids, attention_mask=attention_mask, labels=labels)\n",
        "        val_loss = outputs.loss\n",
        "        total_val_loss += val_loss.item()\n",
        "\n",
        "        # Generate predictions for the current batch\n",
        "        predicted_ids = model.generate(input_ids, attention_mask=attention_mask, max_length=50)\n",
        "        for pred_id, label_id in zip(predicted_ids, labels):\n",
        "            predicted_logic_expressions.append(tokenizer.decode(pred_id, skip_special_tokens=True))\n",
        "            true_logic_expressions.append(tokenizer.decode(label_id, skip_special_tokens=True))\n",
        "\n",
        "# Calculate confusion matrix\n",
        "conf_matrix = confusion_matrix(true_logic_expressions, predicted_logic_expressions)\n",
        "print(\"Confusion Matrix:\")\n",
        "print(conf_matrix)\n"
      ],
      "metadata": {
        "id": "YQLFCNKf0dLp"
      },
      "execution_count": null,
      "outputs": []
    }
  ]
}